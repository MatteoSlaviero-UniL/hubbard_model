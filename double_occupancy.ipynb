{
 "cells": [
  {
   "cell_type": "code",
   "execution_count": null,
   "metadata": {},
   "outputs": [],
   "source": [
    "# Import necessary libraries\n",
    "import numpy as np\n",
    "import matplotlib.pyplot as plt\n",
    "from hubbard import Hubbard\n",
    "\n",
    "# Parameters\n",
    "size = 6  # Lattice size (6x6 grid)\n",
    "num_electrons = size ** 2  # Half-filling\n",
    "t = 1.0  # Hopping parameter\n",
    "u_values = np.logspace(-2, 3, 50)  # Range of U values (logarithmic scale)\n",
    "repeats = 100  # Number of realizations for averaging\n",
    "equilibration_steps = 1000  # Steps to let the lattice equilibrate\n",
    "\n",
    "# Initialize results container\n",
    "double_occupancy_results = []\n",
    "\n",
    "# Loop over U values\n",
    "for u in u_values:\n",
    "    avg_double_occupancy = 0\n",
    "\n",
    "    for _ in range(repeats):\n",
    "        # Initialize the Hubbard model in antiferromagnetic configuration\n",
    "        hubbard = Hubbard(size=size, u=u, t=t, num_electrons=num_electrons)\n",
    "        hubbard.initialize_af()\n",
    "\n",
    "        # Perform equilibration steps\n",
    "        for _ in range(equilibration_steps):\n",
    "            hubbard.simulate_step()\n",
    "\n",
    "        # Calculate double occupancy directly\n",
    "        avg_double_occupancy += hubbard.total_paired / (2 * size**2)\n",
    "\n",
    "    # Average over realizations\n",
    "    avg_double_occupancy /= repeats\n",
    "    double_occupancy_results.append(avg_double_occupancy)\n",
    "\n",
    "# Plot results\n",
    "plt.figure(figsize=(8, 6))\n",
    "plt.plot(u_values / t, double_occupancy_results, marker='o', linestyle='-', color='b', label='Double Occupancy')\n",
    "plt.title(\"Double Occupancy vs. U/t\", fontsize=14)\n",
    "plt.xscale(\"log\")  # Logarithmic scale for U/t\n",
    "#plt.yscale(\"log\")  # Logarithmic scale for Double Occupancy\n",
    "plt.xlabel(\"U/t (log scale)\", fontsize=12)\n",
    "plt.ylabel(\"Double Occupancy (log scale)\", fontsize=12)\n",
    "plt.grid(True, which=\"both\", linestyle='--', alpha=0.6)\n",
    "plt.legend()\n",
    "plt.show()"
   ]
  },
  {
   "cell_type": "code",
   "execution_count": null,
   "metadata": {},
   "outputs": [],
   "source": []
  }
 ],
 "metadata": {
  "kernelspec": {
   "display_name": "base",
   "language": "python",
   "name": "python3"
  },
  "language_info": {
   "codemirror_mode": {
    "name": "ipython",
    "version": 3
   },
   "file_extension": ".py",
   "mimetype": "text/x-python",
   "name": "python",
   "nbconvert_exporter": "python",
   "pygments_lexer": "ipython3",
   "version": "3.11.5"
  }
 },
 "nbformat": 4,
 "nbformat_minor": 2
}
